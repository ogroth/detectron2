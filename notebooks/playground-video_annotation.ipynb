{
 "cells": [
  {
   "cell_type": "code",
   "execution_count": null,
   "metadata": {},
   "outputs": [],
   "source": [
    "'''imports'''\n",
    "# setup detectron2 logger\n",
    "import detectron2\n",
    "from detectron2.utils.logger import setup_logger\n",
    "setup_logger()\n",
    "\n",
    "# stblib\n",
    "import os\n",
    "from collections import OrderedDict\n",
    "from pprint import pprint\n",
    "\n",
    "# thirdparty\n",
    "import numpy as np\n",
    "import cv2\n",
    "from matplotlib import pyplot as plt\n",
    "\n",
    "# detectron2 utils\n",
    "from detectron2 import model_zoo\n",
    "from detectron2.engine import DefaultPredictor\n",
    "from detectron2.config import get_cfg\n",
    "from detectron2.utils.visualizer import Visualizer\n",
    "from detectron2.data import MetadataCatalog"
   ]
  },
  {
   "cell_type": "code",
   "execution_count": null,
   "metadata": {},
   "outputs": [],
   "source": [
    "'''directory setup'''\n",
    "tmp_dir = os.path.join('tmp', 'video_annotation')\n",
    "os.makedirs(tmp_dir, exist_ok=True)\n",
    "print(tmp_dir)"
   ]
  },
  {
   "cell_type": "code",
   "execution_count": null,
   "metadata": {},
   "outputs": [],
   "source": [
    "'''load video'''\n",
    "video_name = 'highway-4k.mp4'\n",
    "video_input = os.path.join(tmp_dir, video_name)\n",
    "video = cv2.VideoCapture(video_input)\n",
    "width = int(video.get(cv2.CAP_PROP_FRAME_WIDTH))\n",
    "height = int(video.get(cv2.CAP_PROP_FRAME_HEIGHT))\n",
    "frames_per_second = video.get(cv2.CAP_PROP_FPS)\n",
    "num_frames = int(video.get(cv2.CAP_PROP_FRAME_COUNT))\n",
    "print(video_input)\n",
    "print(\"%s, #frames = %d, fps = %.01f, w = %d, h = %d\" % (video, num_frames, frames_per_second, width, height))"
   ]
  },
  {
   "cell_type": "code",
   "execution_count": null,
   "metadata": {},
   "outputs": [],
   "source": [
    "'''frames generator for video processing'''\n",
    "def _video_frame_generator(cv2_video_capture):\n",
    "    while video.isOpened():\n",
    "        success, frame = cv2_video_capture.read()\n",
    "        if success:\n",
    "            yield frame\n",
    "        else:\n",
    "            break\n",
    "# frame = next(_video_frame_generator(video))\n",
    "# print(frame.shape)"
   ]
  },
  {
   "cell_type": "code",
   "execution_count": null,
   "metadata": {},
   "outputs": [],
   "source": [
    "'''setup detectron model'''\n",
    "cfg = get_cfg()\n",
    "cfg.merge_from_file(model_zoo.get_config_file(\"Cityscapes/mask_rcnn_R_50_FPN.yaml\"))\n",
    "# cfg.MODEL.ROI_HEADS.SCORE_THRESH_TEST = 0.5  # set threshold for this model\n",
    "# Find a model from detectron2's model zoo. You can use the https://dl.fbaipublicfiles... url as well\n",
    "cfg.MODEL.WEIGHTS = model_zoo.get_checkpoint_url(\"Cityscapes/mask_rcnn_R_50_FPN.yaml\")\n",
    "cfg.MODEL.DEVICE = 'cpu'\n",
    "predictor = DefaultPredictor(cfg)\n",
    "# inspect metadata\n",
    "print(MetadataCatalog.get(cfg.DATASETS.TRAIN[0]))"
   ]
  },
  {
   "cell_type": "code",
   "execution_count": null,
   "metadata": {},
   "outputs": [],
   "source": [
    "'''extract next frame'''\n",
    "frame = next(_video_frame_generator(video))\n",
    "frame_disp = cv2.cvtColor(frame, cv2.COLOR_BGR2RGB)\n",
    "plt.imshow(frame_disp)\n",
    "plt.show()"
   ]
  },
  {
   "cell_type": "code",
   "execution_count": null,
   "metadata": {},
   "outputs": [],
   "source": [
    "'''process frame'''\n",
    "outputs = predictor(frame)"
   ]
  },
  {
   "cell_type": "code",
   "execution_count": null,
   "metadata": {},
   "outputs": [],
   "source": [
    "'''inspect outputs'''\n",
    "print(outputs.keys())\n",
    "print(type(outputs['instances']))\n",
    "print(outputs['instances'].pred_classes)  # instance class ids are mapped to thing_classes!\n",
    "# print(outputs['instances'].pred_masks)\n",
    "print(outputs['instances'].scores)\n",
    "print(outputs['instances'].pred_boxes)"
   ]
  },
  {
   "cell_type": "code",
   "execution_count": null,
   "metadata": {},
   "outputs": [],
   "source": [
    "'''visualize output'''\n",
    "v = Visualizer(frame[:, :, ::-1], MetadataCatalog.get(cfg.DATASETS.TRAIN[0]), scale=1.2)\n",
    "v = v.draw_instance_predictions(outputs[\"instances\"].to(\"cpu\"))\n",
    "frame_out = v.get_image()[:, :, ::-1]\n",
    "frame_viz = cv2.cvtColor(frame_out, cv2.COLOR_BGR2RGB)\n",
    "plt.imshow(frame_viz)\n",
    "plt.show()"
   ]
  },
  {
   "cell_type": "code",
   "execution_count": null,
   "metadata": {},
   "outputs": [],
   "source": [
    "'''\n",
    "assemble data structure\n",
    "{\n",
    "    frame_<id> : {\n",
    "        instance_<id> : {\n",
    "            class_id : <id>,\n",
    "            class_name : <name>,\n",
    "            # mask : <mask>,\n",
    "            bbox : <coords>,\n",
    "            score : <score>,\n",
    "        },\n",
    "        ...\n",
    "    },\n",
    "    ...\n",
    "}\n",
    "'''\n",
    "\n",
    "metadata = MetadataCatalog.get(cfg.DATASETS.TRAIN[0])\n",
    "instance_classes = metadata.get('thing_classes', None)\n",
    "# print(instance_classes)\n",
    "outputs_cpu = outputs[\"instances\"].to(\"cpu\")\n",
    "outputs_zipped = zip(outputs_cpu.pred_classes, outputs_cpu.pred_masks, outputs_cpu.pred_boxes, outputs_cpu.scores)\n",
    "\n",
    "frame_dict = OrderedDict()\n",
    "for instance_id, (class_id, mask, bbox, score) in enumerate(outputs_zipped):\n",
    "    instance_path = 'instace_%02d' % instance_id\n",
    "    frame_dict[instance_path] = OrderedDict()\n",
    "    frame_dict[instance_path]['class_id'] = class_id.item()\n",
    "    frame_dict[instance_path]['class_name'] = instance_classes[class_id]\n",
    "#     frame_dict[instance_path]['mask'] = mask.numpy()\n",
    "    frame_dict[instance_path]['bbox'] = bbox.numpy()\n",
    "    frame_dict[instance_path]['score'] = score.item()\n",
    "\n",
    "pprint(frame_dict)"
   ]
  },
  {
   "cell_type": "code",
   "execution_count": null,
   "metadata": {},
   "outputs": [],
   "source": [
    "'''save frame annotation as npz'''\n",
    "frame_label_file = os.path.join(tmp_dir, 'frame_0000.npz')\n",
    "np.savez(frame_label_file, **frame_dict)"
   ]
  },
  {
   "cell_type": "code",
   "execution_count": null,
   "metadata": {},
   "outputs": [],
   "source": []
  }
 ],
 "metadata": {
  "kernelspec": {
   "display_name": "Python 3",
   "language": "python",
   "name": "python3"
  },
  "language_info": {
   "codemirror_mode": {
    "name": "ipython",
    "version": 3
   },
   "file_extension": ".py",
   "mimetype": "text/x-python",
   "name": "python",
   "nbconvert_exporter": "python",
   "pygments_lexer": "ipython3"
  }
 },
 "nbformat": 4,
 "nbformat_minor": 4
}
