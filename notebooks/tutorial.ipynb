{
 "cells": [
  {
   "cell_type": "markdown",
   "metadata": {
    "colab_type": "text",
    "id": "QHnVupBBn9eR"
   },
   "source": [
    "# Detectron2 Beginner's Tutorial\n",
    "\n",
    "<img src=\"https://dl.fbaipublicfiles.com/detectron2/Detectron2-Logo-Horz.png\" width=\"500\">\n",
    "\n",
    "Welcome to detectron2! This is the official colab tutorial of detectron2. Here, we will go through some basics usage of detectron2, including the following:\n",
    "* Run inference on images or videos, with an existing detectron2 model\n",
    "* Train a detectron2 model on a new dataset\n",
    "\n",
    "You can make a copy of this tutorial or use \"File -> Open in playground mode\" to play with it yourself.\n"
   ]
  },
  {
   "cell_type": "code",
   "execution_count": null,
   "metadata": {
    "colab": {
     "base_uri": "https://localhost:8080/",
     "height": 368
    },
    "colab_type": "code",
    "executionInfo": {
     "elapsed": 1862,
     "status": "error",
     "timestamp": 1584728437204,
     "user": {
      "displayName": "Oliver Groth",
      "photoUrl": "",
      "userId": "14539946052951302330"
     },
     "user_tz": 0
    },
    "id": "ZyAvNCJMmvFF",
    "outputId": "84d7ac6d-7dd8-4109-a3bd-1d697f2aa637"
   },
   "outputs": [],
   "source": [
    "# You may need to restart your runtime prior to this, to let your installation take effect\n",
    "# Some basic setup:\n",
    "# Setup detectron2 logger\n",
    "import detectron2\n",
    "from detectron2.utils.logger import setup_logger\n",
    "setup_logger()\n",
    "\n",
    "# import some common libraries\n",
    "import numpy as np\n",
    "import cv2\n",
    "from matplotlib import pyplot as plt\n",
    "import random\n",
    "# from google.colab.patches import cv2_imshow\n",
    "\n",
    "# import some common detectron2 utilities\n",
    "from detectron2 import model_zoo\n",
    "from detectron2.engine import DefaultPredictor\n",
    "from detectron2.config import get_cfg\n",
    "from detectron2.utils.visualizer import Visualizer\n",
    "from detectron2.data import MetadataCatalog"
   ]
  },
  {
   "cell_type": "markdown",
   "metadata": {
    "colab_type": "text",
    "id": "Vk4gID50K03a"
   },
   "source": [
    "# Run a pre-trained detectron2 model"
   ]
  },
  {
   "cell_type": "markdown",
   "metadata": {
    "colab_type": "text",
    "id": "JgKyUL4pngvE"
   },
   "source": [
    "We first download a random image from the COCO dataset:"
   ]
  },
  {
   "cell_type": "code",
   "execution_count": null,
   "metadata": {
    "colab": {
     "base_uri": "https://localhost:8080/",
     "height": 684
    },
    "colab_type": "code",
    "executionInfo": {
     "elapsed": 6268,
     "status": "ok",
     "timestamp": 1584722187458,
     "user": {
      "displayName": "Oliver Groth",
      "photoUrl": "",
      "userId": "14539946052951302330"
     },
     "user_tz": 0
    },
    "id": "dq9GY37ml1kr",
    "outputId": "532fdfe9-89aa-456a-daea-f3eec960fc0a"
   },
   "outputs": [],
   "source": [
    "# !wget http://images.cocodataset.org/val2017/000000439715.jpg -O input.jpg\n",
    "im = cv2.imread(\"./input.jpg\")\n",
    "im_disp = cv2.cvtColor(im, cv2.COLOR_BGR2RGB)\n",
    "plt.imshow(im_disp)\n",
    "plt.show()"
   ]
  },
  {
   "cell_type": "markdown",
   "metadata": {
    "colab_type": "text",
    "id": "uM1thbN-ntjI"
   },
   "source": [
    "Then, we create a detectron2 config and a detectron2 `DefaultPredictor` to run inference on this image."
   ]
  },
  {
   "cell_type": "code",
   "execution_count": null,
   "metadata": {
    "colab": {
     "base_uri": "https://localhost:8080/",
     "height": 34
    },
    "colab_type": "code",
    "executionInfo": {
     "elapsed": 21504,
     "status": "ok",
     "timestamp": 1584722219461,
     "user": {
      "displayName": "Oliver Groth",
      "photoUrl": "",
      "userId": "14539946052951302330"
     },
     "user_tz": 0
    },
    "id": "HUjkwRsOn1O0",
    "outputId": "2a6afbf9-bb7f-48ca-b1da-2319ad3a0542"
   },
   "outputs": [],
   "source": [
    "cfg = get_cfg()\n",
    "# add project-specific config (e.g., TensorMask) here if you're not running a model in detectron2's core library\n",
    "cfg.merge_from_file(model_zoo.get_config_file(\"COCO-InstanceSegmentation/mask_rcnn_R_50_FPN_3x.yaml\"))\n",
    "cfg.MODEL.ROI_HEADS.SCORE_THRESH_TEST = 0.5  # set threshold for this model\n",
    "# Find a model from detectron2's model zoo. You can use the https://dl.fbaipublicfiles... url as well\n",
    "cfg.MODEL.WEIGHTS = model_zoo.get_checkpoint_url(\"COCO-InstanceSegmentation/mask_rcnn_R_50_FPN_3x.yaml\")\n",
    "cfg.MODEL.DEVICE = 'cpu'\n",
    "predictor = DefaultPredictor(cfg)\n",
    "outputs = predictor(im)"
   ]
  },
  {
   "cell_type": "code",
   "execution_count": null,
   "metadata": {
    "colab": {
     "base_uri": "https://localhost:8080/",
     "height": 85
    },
    "colab_type": "code",
    "executionInfo": {
     "elapsed": 1303,
     "status": "ok",
     "timestamp": 1584722610483,
     "user": {
      "displayName": "Oliver Groth",
      "photoUrl": "",
      "userId": "14539946052951302330"
     },
     "user_tz": 0
    },
    "id": "Fc_jLrB7ziDn",
    "outputId": "74e57207-1f09-4556-ec01-498ed532129d"
   },
   "outputs": [],
   "source": [
    "# inspect output data structure\n",
    "print(outputs.keys())\n",
    "print(type(outputs['instances']))\n",
    "print(outputs['instances'].pred_classes)"
   ]
  },
  {
   "cell_type": "code",
   "execution_count": null,
   "metadata": {
    "colab": {
     "base_uri": "https://localhost:8080/",
     "height": 272
    },
    "colab_type": "code",
    "executionInfo": {
     "elapsed": 1623,
     "status": "ok",
     "timestamp": 1584707349010,
     "user": {
      "displayName": "Oliver Groth",
      "photoUrl": "",
      "userId": "14539946052951302330"
     },
     "user_tz": 0
    },
    "id": "7d3KxiHO_0gb",
    "outputId": "73301487-1279-46eb-a6f8-76c5d145beeb"
   },
   "outputs": [],
   "source": [
    "# look at the outputs. See https://detectron2.readthedocs.io/tutorials/models.html#model-output-format for specification\n",
    "outputs[\"instances\"].pred_classes\n",
    "outputs[\"instances\"].pred_boxes"
   ]
  },
  {
   "cell_type": "code",
   "execution_count": null,
   "metadata": {
    "colab": {
     "base_uri": "https://localhost:8080/",
     "height": 164
    },
    "colab_type": "code",
    "executionInfo": {
     "elapsed": 1722,
     "status": "error",
     "timestamp": 1584728423333,
     "user": {
      "displayName": "Oliver Groth",
      "photoUrl": "",
      "userId": "14539946052951302330"
     },
     "user_tz": 0
    },
    "id": "9FTAy4_6LFfQ",
    "outputId": "ff70b9f9-041b-42c3-b3f9-6cf86916e25b"
   },
   "outputs": [],
   "source": [
    "# inspect metadata\n",
    "print(MetadataCatalog.get(cfg.DATASETS.TRAIN[0]))"
   ]
  },
  {
   "cell_type": "code",
   "execution_count": null,
   "metadata": {
    "colab": {
     "base_uri": "https://localhost:8080/",
     "height": 593
    },
    "colab_type": "code",
    "executionInfo": {
     "elapsed": 8167,
     "status": "ok",
     "timestamp": 1584707363168,
     "user": {
      "displayName": "Oliver Groth",
      "photoUrl": "",
      "userId": "14539946052951302330"
     },
     "user_tz": 0
    },
    "id": "8IRGo8d0qkgR",
    "outputId": "f09e4683-f9a9-43b3-c125-3fa301755e2e"
   },
   "outputs": [],
   "source": [
    "# We can use `Visualizer` to draw the predictions on the image.\n",
    "v = Visualizer(im[:, :, ::-1], MetadataCatalog.get(cfg.DATASETS.TRAIN[0]), scale=1.2)\n",
    "v = v.draw_instance_predictions(outputs[\"instances\"].to(\"cpu\"))\n",
    "im_out = v.get_image()[:, :, ::-1]\n",
    "im_disp = cv2.cvtColor(im_out, cv2.COLOR_BGR2RGB)\n",
    "plt.imshow(im_disp)\n",
    "plt.show()"
   ]
  },
  {
   "cell_type": "markdown",
   "metadata": {
    "colab_type": "text",
    "id": "oKBbjnLw5GGG"
   },
   "source": [
    "# Other types of builtin models"
   ]
  },
  {
   "cell_type": "code",
   "execution_count": null,
   "metadata": {
    "colab": {
     "base_uri": "https://localhost:8080/",
     "height": 610
    },
    "colab_type": "code",
    "executionInfo": {
     "elapsed": 3071,
     "status": "ok",
     "timestamp": 1571121215071,
     "user": {
      "displayName": "Yuxin Wu",
      "photoUrl": "https://lh3.googleusercontent.com/a-/AAuE7mBZfy6uvvU9kiFIv2Zq4y5912Vr29z29kvgwmqU=s64",
      "userId": "04991596853823833398"
     },
     "user_tz": 420
    },
    "id": "GYJrlXZC5M-J",
    "outputId": "e7dc1067-2b72-4686-8ca6-9d7182dd6dc9"
   },
   "outputs": [],
   "source": [
    "# Inference with a keypoint detection model\n",
    "cfg = get_cfg()\n",
    "cfg.merge_from_file(model_zoo.get_config_file(\"COCO-Keypoints/keypoint_rcnn_R_50_FPN_3x.yaml\"))\n",
    "cfg.MODEL.ROI_HEADS.SCORE_THRESH_TEST = 0.7  # set threshold for this model\n",
    "cfg.MODEL.WEIGHTS = model_zoo.get_checkpoint_url(\"COCO-Keypoints/keypoint_rcnn_R_50_FPN_3x.yaml\")\n",
    "predictor = DefaultPredictor(cfg)\n",
    "outputs = predictor(im)\n",
    "v = Visualizer(im[:,:,::-1], MetadataCatalog.get(cfg.DATASETS.TRAIN[0]), scale=1.2)\n",
    "v = v.draw_instance_predictions(outputs[\"instances\"].to(\"cpu\"))\n",
    "cv2_imshow(v.get_image()[:, :, ::-1])"
   ]
  },
  {
   "cell_type": "code",
   "execution_count": null,
   "metadata": {
    "colab": {
     "base_uri": "https://localhost:8080/",
     "height": 610
    },
    "colab_type": "code",
    "executionInfo": {
     "elapsed": 3557,
     "status": "ok",
     "timestamp": 1571121220978,
     "user": {
      "displayName": "Yuxin Wu",
      "photoUrl": "https://lh3.googleusercontent.com/a-/AAuE7mBZfy6uvvU9kiFIv2Zq4y5912Vr29z29kvgwmqU=s64",
      "userId": "04991596853823833398"
     },
     "user_tz": 420
    },
    "id": "roTj1N9F5uJ5",
    "outputId": "d333be49-e316-4db7-f19c-bb74c0e10364"
   },
   "outputs": [],
   "source": [
    "# Inference with a panoptic segmentation model\n",
    "cfg = get_cfg()\n",
    "cfg.merge_from_file(model_zoo.get_config_file(\"COCO-PanopticSegmentation/panoptic_fpn_R_101_3x.yaml\"))\n",
    "cfg.MODEL.WEIGHTS = model_zoo.get_checkpoint_url(\"COCO-PanopticSegmentation/panoptic_fpn_R_101_3x.yaml\")\n",
    "predictor = DefaultPredictor(cfg)\n",
    "panoptic_seg, segments_info = predictor(im)[\"panoptic_seg\"]\n",
    "v = Visualizer(im[:, :, ::-1], MetadataCatalog.get(cfg.DATASETS.TRAIN[0]), scale=1.2)\n",
    "v = v.draw_panoptic_seg_predictions(panoptic_seg.to(\"cpu\"), segments_info)\n",
    "cv2_imshow(v.get_image()[:, :, ::-1])"
   ]
  },
  {
   "cell_type": "markdown",
   "metadata": {
    "colab_type": "text",
    "id": "hiXadAb9Fv-L"
   },
   "source": [
    "# Run panoptic segmentation on a video"
   ]
  },
  {
   "cell_type": "code",
   "execution_count": null,
   "metadata": {
    "colab": {
     "base_uri": "https://localhost:8080/",
     "height": 322
    },
    "colab_type": "code",
    "executionInfo": {
     "elapsed": 514,
     "status": "ok",
     "timestamp": 1571120702545,
     "user": {
      "displayName": "Yuxin Wu",
      "photoUrl": "https://lh3.googleusercontent.com/a-/AAuE7mBZfy6uvvU9kiFIv2Zq4y5912Vr29z29kvgwmqU=s64",
      "userId": "04991596853823833398"
     },
     "user_tz": 420
    },
    "id": "YU5_W8wJF02F",
    "outputId": "9187dd9b-3798-4e59-926c-ff10849920c2"
   },
   "outputs": [],
   "source": [
    "# This is the video we're going to process\n",
    "from IPython.display import YouTubeVideo, display\n",
    "video = YouTubeVideo(\"ll8TgCZ0plk\", width=500)\n",
    "display(video)"
   ]
  },
  {
   "cell_type": "code",
   "execution_count": null,
   "metadata": {
    "colab": {},
    "colab_type": "code",
    "id": "a65jM_VFF2Hr"
   },
   "outputs": [],
   "source": [
    "# Install dependencies, download the video, and crop 5 seconds for processing\n",
    "!pip install youtube-dl\n",
    "!pip uninstall -y opencv-python opencv-contrib-python\n",
    "!apt install python3-opencv  # the one pre-installed have some issues\n",
    "!youtube-dl https://www.youtube.com/watch?v=ll8TgCZ0plk -f 22 -o video.mp4\n",
    "!ffmpeg -i video.mp4 -t 00:00:06 -c:v copy video-clip.mp4"
   ]
  },
  {
   "cell_type": "code",
   "execution_count": null,
   "metadata": {
    "colab": {},
    "colab_type": "code",
    "id": "cyA4VmKcF61k"
   },
   "outputs": [],
   "source": [
    "# Run frame-by-frame inference demo on this video (takes 3-4 minutes)\n",
    "# Using a model trained on COCO dataset\n",
    "!git clone https://github.com/facebookresearch/detectron2\n",
    "!python detectron2/demo/demo.py --config-file detectron2/configs/COCO-PanopticSegmentation/panoptic_fpn_R_101_3x.yaml --video-input video-clip.mp4 --confidence-threshold 0.6 --output video-output.mkv \\\n",
    "  --opts MODEL.WEIGHTS detectron2://COCO-PanopticSegmentation/panoptic_fpn_R_101_3x/139514519/model_final_cafdb1.pkl"
   ]
  },
  {
   "cell_type": "code",
   "execution_count": null,
   "metadata": {
    "colab": {},
    "colab_type": "code",
    "id": "OpLg_MAQGPUT"
   },
   "outputs": [],
   "source": [
    "# Download the results\n",
    "from google.colab import files\n",
    "files.download('video-output.mkv')"
   ]
  }
 ],
 "metadata": {
  "accelerator": "GPU",
  "colab": {
   "collapsed_sections": [],
   "name": "Copy of Detectron2 Tutorial.ipynb",
   "provenance": [
    {
     "file_id": "16jcaJoc6bCFAQ96jDe2HwtXj7BMD_-m5",
     "timestamp": 1584705632945
    }
   ],
   "toc_visible": true
  },
  "kernelspec": {
   "display_name": "Python 3",
   "language": "python",
   "name": "python3"
  },
  "language_info": {
   "codemirror_mode": {
    "name": "ipython",
    "version": 3
   },
   "file_extension": ".py",
   "mimetype": "text/x-python",
   "name": "python",
   "nbconvert_exporter": "python",
   "pygments_lexer": "ipython3"
  }
 },
 "nbformat": 4,
 "nbformat_minor": 1
}
